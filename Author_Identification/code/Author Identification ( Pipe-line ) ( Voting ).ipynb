{
 "cells": [
  {
   "cell_type": "code",
   "execution_count": 3,
   "metadata": {},
   "outputs": [
    {
     "name": "stdout",
     "output_type": "stream",
     "text": [
      "3.6.2 |Anaconda, Inc.| (default, Sep 19 2017, 08:03:39) [MSC v.1900 64 bit (AMD64)]\n"
     ]
    }
   ],
   "source": [
    "import sys\n",
    "print(sys.version)"
   ]
  },
  {
   "cell_type": "code",
   "execution_count": 2,
   "metadata": {
    "collapsed": true
   },
   "outputs": [],
   "source": [
    "import pandas as pd\n",
    "from sklearn.feature_extraction.text import CountVectorizer\n",
    "from sklearn.model_selection import train_test_split\n",
    "from sklearn.feature_extraction.text import TfidfTransformer\n",
    "from sklearn.pipeline import Pipeline"
   ]
  },
  {
   "cell_type": "code",
   "execution_count": 3,
   "metadata": {
    "collapsed": true
   },
   "outputs": [],
   "source": [
    "text_data = pd.read_csv(\"D:/Datasets/Spooky Author Identification/train.csv\")"
   ]
  },
  {
   "cell_type": "code",
   "execution_count": 4,
   "metadata": {
    "collapsed": true
   },
   "outputs": [],
   "source": [
    "text_data[\"author_label\"] = text_data.author.map({'EAP':0,'HPL':1,'MWS':2})"
   ]
  },
  {
   "cell_type": "code",
   "execution_count": 5,
   "metadata": {
    "collapsed": true
   },
   "outputs": [],
   "source": [
    "X = text_data.text\n",
    "y = text_data.author_label"
   ]
  },
  {
   "cell_type": "code",
   "execution_count": 6,
   "metadata": {
    "collapsed": true
   },
   "outputs": [],
   "source": [
    "# Define a pipeline\n",
    "pipeline = Pipeline([\n",
    "    ('vect', CountVectorizer()),\n",
    "    ('tfidf', TfidfTransformer())])"
   ]
  },
  {
   "cell_type": "code",
   "execution_count": 7,
   "metadata": {
    "collapsed": true
   },
   "outputs": [],
   "source": [
    "pipeline_1 = Pipeline([('vect', CountVectorizer())])"
   ]
  },
  {
   "cell_type": "code",
   "execution_count": 8,
   "metadata": {
    "collapsed": true
   },
   "outputs": [],
   "source": [
    "pipeline_2 = Pipeline([('tfidf', TfidfTransformer())])"
   ]
  },
  {
   "cell_type": "code",
   "execution_count": 9,
   "metadata": {
    "collapsed": true
   },
   "outputs": [],
   "source": [
    "train_matrix  = pipeline.fit_transform(X);"
   ]
  },
  {
   "cell_type": "code",
   "execution_count": 9,
   "metadata": {},
   "outputs": [
    {
     "data": {
      "text/plain": [
       "0.81920326864147086"
      ]
     },
     "execution_count": 9,
     "metadata": {},
     "output_type": "execute_result"
    }
   ],
   "source": [
    "#90/10 Train Test Split\n",
    "X_train, X_test, y_train, y_test = train_test_split(train_matrix, y, test_size = 0.10,random_state = 2)\n",
    "from sklearn.naive_bayes import MultinomialNB\n",
    "mnb = MultinomialNB();\n",
    "mnb = mnb.fit(X_train,y_train);\n",
    "y_pred = mnb.predict(X_test);\n",
    "from sklearn.metrics import accuracy_score\n",
    "accuracy_score(y_test,y_pred)"
   ]
  },
  {
   "cell_type": "code",
   "execution_count": 18,
   "metadata": {},
   "outputs": [
    {
     "data": {
      "text/plain": [
       "0.80830779707184197"
      ]
     },
     "execution_count": 18,
     "metadata": {},
     "output_type": "execute_result"
    }
   ],
   "source": [
    "#85/15 Train Test Split\n",
    "X_train, X_test, y_train, y_test = train_test_split(train_matrix, y, test_size = 0.15,random_state = 2)\n",
    "from sklearn.naive_bayes import MultinomialNB\n",
    "mnb = MultinomialNB();\n",
    "mnb = mnb.fit(X_train,y_train);\n",
    "y_pred = mnb.predict(X_test);\n",
    "from sklearn.metrics import accuracy_score\n",
    "accuracy_score(y_test,y_pred)"
   ]
  },
  {
   "cell_type": "code",
   "execution_count": 10,
   "metadata": {},
   "outputs": [
    {
     "data": {
      "text/plain": [
       "0.81256384065372833"
      ]
     },
     "execution_count": 10,
     "metadata": {},
     "output_type": "execute_result"
    }
   ],
   "source": [
    "#80/20 Train Test Split\n",
    "X_train, X_test, y_train, y_test = train_test_split(train_matrix, y, test_size = 0.20,random_state = 2)\n",
    "from sklearn.naive_bayes import MultinomialNB\n",
    "mnb = MultinomialNB();\n",
    "mnb = mnb.fit(X_train,y_train);\n",
    "y_pred = mnb.predict(X_test);\n",
    "from sklearn.metrics import accuracy_score\n",
    "accuracy_score(y_test,y_pred)"
   ]
  },
  {
   "cell_type": "code",
   "execution_count": 12,
   "metadata": {},
   "outputs": [
    {
     "data": {
      "text/plain": [
       "0.81123595505617974"
      ]
     },
     "execution_count": 12,
     "metadata": {},
     "output_type": "execute_result"
    }
   ],
   "source": [
    "#75/25 Train Test Split\n",
    "X_train, X_test, y_train, y_test = train_test_split(train_matrix, y, test_size = 0.25,random_state = 2)\n",
    "from sklearn.naive_bayes import MultinomialNB\n",
    "mnb = MultinomialNB();\n",
    "mnb = mnb.fit(X_train,y_train);\n",
    "y_pred = mnb.predict(X_test);\n",
    "from sklearn.metrics import accuracy_score\n",
    "accuracy_score(y_test,y_pred)"
   ]
  },
  {
   "cell_type": "code",
   "execution_count": 13,
   "metadata": {},
   "outputs": [
    {
     "data": {
      "text/plain": [
       "0.80847803881511748"
      ]
     },
     "execution_count": 13,
     "metadata": {},
     "output_type": "execute_result"
    }
   ],
   "source": [
    "#70/30 Train Test Split\n",
    "X_train, X_test, y_train, y_test = train_test_split(train_matrix, y, test_size = 0.30,random_state = 2)\n",
    "from sklearn.naive_bayes import MultinomialNB\n",
    "mnb = MultinomialNB();\n",
    "mnb = mnb.fit(X_train,y_train);\n",
    "y_pred = mnb.predict(X_test);\n",
    "from sklearn.metrics import accuracy_score\n",
    "accuracy_score(y_test,y_pred)"
   ]
  },
  {
   "cell_type": "code",
   "execution_count": 14,
   "metadata": {},
   "outputs": [
    {
     "data": {
      "text/plain": [
       "0.80315190427549976"
      ]
     },
     "execution_count": 14,
     "metadata": {},
     "output_type": "execute_result"
    }
   ],
   "source": [
    "#65/35 Train Test Split\n",
    "X_train, X_test, y_train, y_test = train_test_split(train_matrix, y, test_size = 0.35,random_state = 2)\n",
    "from sklearn.naive_bayes import MultinomialNB\n",
    "mnb = MultinomialNB();\n",
    "mnb = mnb.fit(X_train,y_train);\n",
    "y_pred = mnb.predict(X_test);\n",
    "from sklearn.metrics import accuracy_score\n",
    "accuracy_score(y_test,y_pred)"
   ]
  },
  {
   "cell_type": "code",
   "execution_count": 15,
   "metadata": {},
   "outputs": [
    {
     "data": {
      "text/plain": [
       "0.79098569969356491"
      ]
     },
     "execution_count": 15,
     "metadata": {},
     "output_type": "execute_result"
    }
   ],
   "source": [
    "#60/40 Train Test Split\n",
    "X_train, X_test, y_train, y_test = train_test_split(train_matrix, y, test_size = 0.40,random_state = 2)\n",
    "from sklearn.naive_bayes import MultinomialNB\n",
    "mnb = MultinomialNB();\n",
    "mnb = mnb.fit(X_train,y_train);\n",
    "y_pred = mnb.predict(X_test);\n",
    "from sklearn.metrics import accuracy_score\n",
    "accuracy_score(y_test,y_pred)"
   ]
  },
  {
   "cell_type": "code",
   "execution_count": 16,
   "metadata": {},
   "outputs": [
    {
     "data": {
      "text/plain": [
       "0.7864033594370673"
      ]
     },
     "execution_count": 16,
     "metadata": {},
     "output_type": "execute_result"
    }
   ],
   "source": [
    "#55/45 Train Test Split\n",
    "X_train, X_test, y_train, y_test = train_test_split(train_matrix, y, test_size = 0.45,random_state = 2)\n",
    "from sklearn.naive_bayes import MultinomialNB\n",
    "mnb = MultinomialNB();\n",
    "mnb = mnb.fit(X_train,y_train);\n",
    "y_pred = mnb.predict(X_test);\n",
    "from sklearn.metrics import accuracy_score\n",
    "accuracy_score(y_test,y_pred)"
   ]
  },
  {
   "cell_type": "code",
   "execution_count": 17,
   "metadata": {},
   "outputs": [
    {
     "data": {
      "text/plain": [
       "0.77640449438202253"
      ]
     },
     "execution_count": 17,
     "metadata": {},
     "output_type": "execute_result"
    }
   ],
   "source": [
    "#50/50 Train Test Split\n",
    "X_train, X_test, y_train, y_test = train_test_split(train_matrix, y, test_size = 0.5,random_state = 2)\n",
    "from sklearn.naive_bayes import MultinomialNB\n",
    "mnb = MultinomialNB();\n",
    "mnb = mnb.fit(X_train,y_train);\n",
    "y_pred = mnb.predict(X_test);\n",
    "from sklearn.metrics import accuracy_score\n",
    "accuracy_score(y_test,y_pred)"
   ]
  },
  {
   "cell_type": "code",
   "execution_count": 21,
   "metadata": {},
   "outputs": [
    {
     "data": {
      "image/png": "[encoded data removed]",
      "text/plain": [
       "<matplotlib.figure.Figure at 0x1e49e228b00>"
      ]
     },
     "metadata": {},
     "output_type": "display_data"
    }
   ],
   "source": [
    "#Plot for Accuracy Scores\n",
    "import matplotlib.pyplot as plt; plt.rcdefaults()\n",
    "import matplotlib.pyplot as plt\n",
    "import numpy as np\n",
    " \n",
    "objects = ('90/10',\n",
    "           '85/15','80/20',\n",
    "           '75/25','70/30',\n",
    "           '65/35','60/40',\n",
    "           '55/45','50/50')\n",
    "y_pos = np.arange(len(objects))\n",
    "performance = [1 - 0.81920326864147086,\n",
    "               1 - 0.80830779707184197,1 - 0.81256384065372833,\n",
    "               1 - 0.81123595505617974,1 - 0.80847803881511748,\n",
    "               1 - 0.80315190427549976,1 - 0.79098569969356491,\n",
    "               1 - 0.7864033594370673,1 - 0.77640449438202253]\n",
    " \n",
    "plt.barh(y_pos, performance, align='center', alpha=0.5,color=\"g\")\n",
    "plt.yticks(y_pos, objects)\n",
    "plt.ylabel('Train/Test Split')\n",
    "plt.xlabel('Error')\n",
    "plt.title('Model Accuracy in Voting  with Pipeline')\n",
    " \n",
    "plt.show()"
   ]
  },
  {
   "cell_type": "code",
   "execution_count": 11,
   "metadata": {
    "collapsed": true
   },
   "outputs": [],
   "source": [
    "from sklearn.ensemble import RandomForestClassifier\n",
    "from sklearn.ensemble import VotingClassifier\n",
    "from sklearn.linear_model import LogisticRegression\n",
    "from sklearn.svm import SVC\n",
    "from sklearn.linear_model import SGDClassifier\n",
    "from sklearn.naive_bayes import MultinomialNB"
   ]
  },
  {
   "cell_type": "code",
   "execution_count": 58,
   "metadata": {
    "collapsed": true
   },
   "outputs": [],
   "source": [
    "log_clf = LogisticRegression()\n",
    "rnd_clf = RandomForestClassifier(n_estimators=300)\n",
    "svm_clf = SVC()\n",
    "mnb_clf = MultinomialNB()\n",
    "svm_gd_clf = SGDClassifier(penalty='elasticnet',max_iter=100, tol=None)"
   ]
  },
  {
   "cell_type": "code",
   "execution_count": 59,
   "metadata": {
    "collapsed": true
   },
   "outputs": [],
   "source": [
    "voting_clf_1 = VotingClassifier(\n",
    "    estimators=[('lr', log_clf), ('rf', rnd_clf), ('svc', svm_clf)],\n",
    "    voting='hard')"
   ]
  },
  {
   "cell_type": "code",
   "execution_count": 14,
   "metadata": {
    "collapsed": true
   },
   "outputs": [],
   "source": [
    "voting_clf_2 = VotingClassifier(\n",
    "    estimators=[('mnb', mnb_clf),('svc_gd', svm_gd_clf)],\n",
    "    voting='hard')"
   ]
  },
  {
   "cell_type": "code",
   "execution_count": 15,
   "metadata": {
    "collapsed": true
   },
   "outputs": [],
   "source": [
    "voting_clf_3 = VotingClassifier(\n",
    "    estimators=[('mnb', mnb_clf),('svc_gd', svm_gd_clf),('lr', log_clf)],\n",
    "    voting='hard')"
   ]
  },
  {
   "cell_type": "code",
   "execution_count": null,
   "metadata": {},
   "outputs": [
    {
     "name": "stdout",
     "output_type": "stream",
     "text": [
      "LogisticRegression 0.813755532857\n",
      "RandomForestClassifier 0.712291453864\n",
      "SVC 0.411985018727\n"
     ]
    }
   ],
   "source": [
    "#Voting Classifier 1\n",
    "X_train, X_test, y_train, y_test = train_test_split(train_matrix, y, test_size = 0.15,random_state = 2)\n",
    "from sklearn.metrics import accuracy_score\n",
    "for clf in (log_clf, rnd_clf, svm_clf,voting_clf_1):\n",
    "     clf.fit(X_train, y_train)\n",
    "     y_pred = ''\n",
    "     y_pred = clf.predict(X_test)\n",
    "     print(clf.__class__.__name__, accuracy_score(y_test, y_pred))"
   ]
  },
  {
   "cell_type": "code",
   "execution_count": 36,
   "metadata": {},
   "outputs": [
    {
     "name": "stdout",
     "output_type": "stream",
     "text": [
      "MultinomialNB 0.808307797072\n",
      "SGDClassifier 0.831460674157\n",
      "VotingClassifier 0.802860061287\n"
     ]
    }
   ],
   "source": [
    "#Voting Classifier 2\n",
    "X_train, X_test, y_train, y_test = train_test_split(train_matrix, y, test_size = 0.15,random_state = 2)\n",
    "from sklearn.metrics import accuracy_score\n",
    "for clf in (mnb,svm_gd_clf,voting_clf_2):\n",
    "     clf.fit(X_train, y_train)\n",
    "     y_pred = ''\n",
    "     y_pred = clf.predict(X_test)\n",
    "     print(clf.__class__.__name__, accuracy_score(y_test, y_pred))"
   ]
  },
  {
   "cell_type": "code",
   "execution_count": 47,
   "metadata": {},
   "outputs": [
    {
     "name": "stdout",
     "output_type": "stream",
     "text": [
      "LogisticRegression 0.835546475996\n",
      "SGDClassifier 0.827885597549\n",
      "MultinomialNB 0.857507660878\n",
      "VotingClassifier 0.841164453524\n"
     ]
    }
   ],
   "source": [
    "# 90/10 split\n",
    "from sklearn.metrics import accuracy_score\n",
    "for clf in (log_clf, svm_gd_clf, mnb_clf,voting_clf_3):\n",
    "     clf.fit(X_train, y_train)\n",
    "     y_pred = ''\n",
    "     y_pred = clf.predict(X_test)\n",
    "     print(clf.__class__.__name__, accuracy_score(y_test, y_pred))"
   ]
  },
  {
   "cell_type": "code",
   "execution_count": 18,
   "metadata": {},
   "outputs": [
    {
     "name": "stdout",
     "output_type": "stream",
     "text": [
      "LogisticRegression 0.813755532857\n",
      "SGDClassifier 0.829417773238\n",
      "MultinomialNB 0.808307797072\n",
      "VotingClassifier 0.829077289751\n"
     ]
    }
   ],
   "source": [
    "#Voting Classifier 3\n",
    "X_train, X_test, y_train, y_test = train_test_split(train_matrix, y, test_size = 0.15,random_state = 2)\n",
    "from sklearn.metrics import accuracy_score\n",
    "for clf in (log_clf, svm_gd_clf, mnb_clf,voting_clf_3):\n",
    "     clf.fit(X_train, y_train)\n",
    "     y_pred = ''\n",
    "     y_pred = clf.predict(X_test)\n",
    "     print(clf.__class__.__name__, accuracy_score(y_test, y_pred))"
   ]
  },
  {
   "cell_type": "code",
   "execution_count": 62,
   "metadata": {},
   "outputs": [
    {
     "name": "stdout",
     "output_type": "stream",
     "text": [
      "LogisticRegression 0.835546475996\n",
      "SGDClassifier 0.825331971399\n",
      "MultinomialNB 0.857507660878\n",
      "VotingClassifier 0.841164453524\n"
     ]
    }
   ],
   "source": [
    "#Using CountVectorizer only\n",
    "X_train, X_test, y_train, y_test = train_test_split(train_matrix, y, test_size = 0.1,random_state = 2)\n",
    "from sklearn.metrics import accuracy_score\n",
    "for clf in (log_clf, svm_gd_clf, mnb_clf,voting_clf_3):\n",
    "     clf.fit(X_train, y_train)\n",
    "     y_pred = ''\n",
    "     y_pred = clf.predict(X_test)\n",
    "     print(clf.__class__.__name__, accuracy_score(y_test, y_pred))"
   ]
  },
  {
   "cell_type": "code",
   "execution_count": 38,
   "metadata": {},
   "outputs": [
    {
     "name": "stdout",
     "output_type": "stream",
     "text": [
      "LogisticRegression 0.813755532857\n",
      "SGDClassifier 0.831801157644\n",
      "MultinomialNB 0.808307797072\n",
      "VotingClassifier 0.828736806265\n"
     ]
    }
   ],
   "source": [
    "#Using CountVectorizer only\n",
    "X_train, X_test, y_train, y_test = train_test_split(train_matrix, y, test_size = 0.15,random_state = 2)\n",
    "from sklearn.metrics import accuracy_score\n",
    "for clf in (log_clf, svm_gd_clf, mnb_clf,voting_clf_3):\n",
    "     clf.fit(X_train, y_train)\n",
    "     y_pred = ''\n",
    "     y_pred = clf.predict(X_test)\n",
    "     print(clf.__class__.__name__, accuracy_score(y_test, y_pred))"
   ]
  },
  {
   "cell_type": "code",
   "execution_count": 19,
   "metadata": {},
   "outputs": [
    {
     "data": {
      "text/plain": [
       "0.53524004085801835"
      ]
     },
     "execution_count": 19,
     "metadata": {},
     "output_type": "execute_result"
    }
   ],
   "source": [
    "X_train, X_test, y_train, y_test = train_test_split(train_matrix, y, test_size = 0.1,random_state = 2)\n",
    "from sklearn.ensemble import BaggingClassifier\n",
    "from sklearn.tree import DecisionTreeClassifier\n",
    "\n",
    "bag_clf = BaggingClassifier(\n",
    "    DecisionTreeClassifier(), n_estimators=500,\n",
    "    max_samples=100, bootstrap=True, n_jobs=-1)\n",
    "bag_clf.fit(X_train, y_train)\n",
    "y_pred = bag_clf.predict(X_test)\n",
    "from sklearn.metrics import accuracy_score\n",
    "accuracy_score(y_test,y_pred)"
   ]
  },
  {
   "cell_type": "code",
   "execution_count": 51,
   "metadata": {},
   "outputs": [
    {
     "name": "stdout",
     "output_type": "stream",
     "text": [
      "[ 0.81920327  0.81741573  0.81409602  0.81818182  0.82145594]\n",
      "Mean Score: 0.81807055444\n"
     ]
    }
   ],
   "source": [
    "X_train, X_test, y_train, y_test = train_test_split(train_matrix, y, test_size = 0.15,random_state = 2)\n",
    "from sklearn.model_selection import cross_val_score\n",
    "cv_scores5 = cross_val_score(voting_clf_3, train_matrix, y, cv=5, scoring=\"accuracy\")\n",
    "print(cv_scores5)\n",
    "print('Mean Score:',cv_scores5.mean())"
   ]
  },
  {
   "cell_type": "code",
   "execution_count": 52,
   "metadata": {},
   "outputs": [
    {
     "name": "stdout",
     "output_type": "stream",
     "text": [
      "[ 0.82644206  0.82184788  0.82184788  0.81521184  0.8360572   0.80071538\n",
      "  0.82473173  0.81911088  0.82473173  0.82473173]\n",
      "Mean Score: 0.821542833084\n"
     ]
    }
   ],
   "source": [
    "X_train, X_test, y_train, y_test = train_test_split(train_matrix, y, test_size = 0.15,random_state = 2)\n",
    "from sklearn.model_selection import cross_val_score\n",
    "cv_scores = cross_val_score(voting_clf_3, train_matrix, y, cv=10, scoring=\"accuracy\")\n",
    "print(cv_scores)\n",
    "print('Mean Score:', cv_scores.mean())"
   ]
  },
  {
   "cell_type": "code",
   "execution_count": 50,
   "metadata": {},
   "outputs": [
    {
     "data": {
      "image/png": "[encoded data removed]",
      "text/plain": [
       "<matplotlib.figure.Figure at 0x2e2bf6c2780>"
      ]
     },
     "metadata": {},
     "output_type": "display_data"
    }
   ],
   "source": [
    "import matplotlib.pyplot as plt; plt.rcdefaults()\n",
    "import matplotlib.pyplot as plt\n",
    "import numpy as np\n",
    " \n",
    "objects = ('Voting Classifier 1', 'Voting Classifier 2', 'Voting Classifier 3')\n",
    "y_pos = np.arange(len(objects))\n",
    "performance = [1 - 0.647259107933,1 - 0.802860061287,1 - 0.829077289751]\n",
    " \n",
    "plt.bar(y_pos, performance, align='center', alpha=0.5)\n",
    "plt.xticks(y_pos, objects)\n",
    "plt.ylabel('Error Rate')\n",
    "plt.title('Modelwise Accuracy Comparision')\n",
    "plt.xlabel('Model')\n",
    " \n",
    "plt.show()"
   ]
  },
  {
   "cell_type": "code",
   "execution_count": 49,
   "metadata": {},
   "outputs": [
    {
     "data": {
      "image/png": "[encoded data removed]",
      "text/plain": [
       "<matplotlib.figure.Figure at 0x2e2bfabdd30>"
      ]
     },
     "metadata": {},
     "output_type": "display_data"
    }
   ],
   "source": [
    "import matplotlib.pyplot as plt; plt.rcdefaults()\n",
    "import matplotlib.pyplot as plt\n",
    "import numpy as np\n",
    " \n",
    "objects = ('LogisticRegression', 'RandomForestClassifier', 'SVC')\n",
    "y_pos = np.arange(len(objects))\n",
    "performance = [1 - 0.813755532857,1 - 0.625127681307,1 - 0.411985018727]\n",
    " \n",
    "plt.bar(y_pos, performance, align='center', alpha=0.5)\n",
    "plt.xticks(y_pos, objects)\n",
    "plt.ylabel('Error Rate')\n",
    "plt.title('Accuracy Comparision for Voting Classifier 1')\n",
    "plt.xlabel('Model')\n",
    " \n",
    "plt.show()"
   ]
  },
  {
   "cell_type": "code",
   "execution_count": 48,
   "metadata": {},
   "outputs": [
    {
     "data": {
      "image/png": "[encoded data removed]",
      "text/plain": [
       "<matplotlib.figure.Figure at 0x2e2bfa9b518>"
      ]
     },
     "metadata": {},
     "output_type": "display_data"
    }
   ],
   "source": [
    "#Voting Classifier 2\n",
    "\n",
    "import matplotlib.pyplot as plt; plt.rcdefaults()\n",
    "import matplotlib.pyplot as plt\n",
    "import numpy as np\n",
    " \n",
    "objects = ('MultinomialNB', 'SGDClassifier', 'VotingClassifier 2')\n",
    "y_pos = np.arange(len(objects))\n",
    "performance = [1 - 0.808307797072,1 - 0.831460674157,1 - 0.802860061287]\n",
    " \n",
    "plt.bar(y_pos, performance, align='center', alpha=0.5)\n",
    "plt.xticks(y_pos, objects)\n",
    "plt.ylabel('Error Rate')\n",
    "plt.title('Accuracy Comparision for Voting Classifier 2')\n",
    "plt.xlabel('Model')\n",
    " \n",
    "plt.show()"
   ]
  },
  {
   "cell_type": "code",
   "execution_count": 1,
   "metadata": {},
   "outputs": [
    {
     "data": {
      "image/png": "[encoded data removed]",
      "text/plain": [
       "<matplotlib.figure.Figure at 0x19a7c1c9a20>"
      ]
     },
     "metadata": {},
     "output_type": "display_data"
    }
   ],
   "source": [
    "import matplotlib.pyplot as plt; plt.rcdefaults()\n",
    "import matplotlib.pyplot as plt\n",
    "import numpy as np\n",
    " \n",
    "objects = ('LR', 'SGD','MNB','Bagged Decision Tree')\n",
    "y_pos = np.arange(len(objects))\n",
    "performance = [1 - 0.813755532857,1 - 0.829417773238,1 - 0.808307797072, 1 - 0.53524004085801835]\n",
    " \n",
    "plt.bar(y_pos, performance, align='center', alpha=0.5)\n",
    "plt.xticks(y_pos, objects)\n",
    "plt.ylabel('Error Rate')\n",
    "plt.title('Accuracy Comparision for Voting Classifier 3')\n",
    "plt.xlabel('Model')\n",
    " \n",
    "plt.show()"
   ]
  }
 ],
 "metadata": {
  "kernelspec": {
   "display_name": "Python 3",
   "language": "python",
   "name": "python3"
  },
  "language_info": {
   "codemirror_mode": {
    "name": "ipython",
    "version": 3
   },
   "file_extension": ".py",
   "mimetype": "text/x-python",
   "name": "python",
   "nbconvert_exporter": "python",
   "pygments_lexer": "ipython3",
   "version": "3.6.2"
  }
 },
 "nbformat": 4,
 "nbformat_minor": 2
}
