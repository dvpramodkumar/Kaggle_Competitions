{
 "cells": [
  {
   "cell_type": "markdown",
   "metadata": {},
   "source": [
    "## Best Algorithm Finder"
   ]
  },
  {
   "cell_type": "code",
   "execution_count": 1,
   "metadata": {},
   "outputs": [],
   "source": [
    "import warnings\n",
    "warnings.filterwarnings(\"ignore\")"
   ]
  },
  {
   "cell_type": "code",
   "execution_count": 2,
   "metadata": {},
   "outputs": [
    {
     "name": "stderr",
     "output_type": "stream",
     "text": [
      "/usr/local/lib/python3.7/site-packages/sklearn/ensemble/weight_boosting.py:29: DeprecationWarning: numpy.core.umath_tests is an internal NumPy module and should not be imported. It will be removed in a future NumPy release.\n",
      "  from numpy.core.umath_tests import inner1d\n"
     ]
    }
   ],
   "source": [
    "import pandas as pd\n",
    "import numpy as np\n",
    "from sklearn.feature_extraction.text import TfidfVectorizer\n",
    "from sklearn.model_selection import train_test_split\n",
    "from sklearn.naive_bayes import MultinomialNB\n",
    "from sklearn.linear_model import SGDClassifier\n",
    "from sklearn.ensemble import RandomForestClassifier\n",
    "from sklearn.linear_model import LogisticRegression\n",
    "from sklearn.svm import SVC\n",
    "from xgboost import XGBClassifier\n",
    "from sklearn.ensemble import BaggingClassifier\n",
    "from sklearn.tree import DecisionTreeClassifier\n",
    "from sklearn.model_selection import GridSearchCV\n",
    "from sklearn.metrics import accuracy_score\n",
    "from sklearn.model_selection import cross_val_score\n",
    "from time import time\n",
    "from sklearn.metrics import confusion_matrix\n",
    "import itertools\n",
    "import matplotlib.pyplot as plt"
   ]
  },
  {
   "cell_type": "code",
   "execution_count": 3,
   "metadata": {},
   "outputs": [
    {
     "data": {
      "text/html": [
       "<div>\n",
       "<style scoped>\n",
       "    .dataframe tbody tr th:only-of-type {\n",
       "        vertical-align: middle;\n",
       "    }\n",
       "\n",
       "    .dataframe tbody tr th {\n",
       "        vertical-align: top;\n",
       "    }\n",
       "\n",
       "    .dataframe thead th {\n",
       "        text-align: right;\n",
       "    }\n",
       "</style>\n",
       "<table border=\"1\" class=\"dataframe\">\n",
       "  <thead>\n",
       "    <tr style=\"text-align: right;\">\n",
       "      <th></th>\n",
       "      <th>id</th>\n",
       "      <th>comment_text</th>\n",
       "      <th>toxic</th>\n",
       "      <th>severe_toxic</th>\n",
       "      <th>obscene</th>\n",
       "      <th>threat</th>\n",
       "      <th>insult</th>\n",
       "      <th>identity_hate</th>\n",
       "    </tr>\n",
       "  </thead>\n",
       "  <tbody>\n",
       "    <tr>\n",
       "      <th>0</th>\n",
       "      <td>0000997932d777bf</td>\n",
       "      <td>Explanation\\nWhy the edits made under my usern...</td>\n",
       "      <td>0</td>\n",
       "      <td>0</td>\n",
       "      <td>0</td>\n",
       "      <td>0</td>\n",
       "      <td>0</td>\n",
       "      <td>0</td>\n",
       "    </tr>\n",
       "    <tr>\n",
       "      <th>1</th>\n",
       "      <td>000103f0d9cfb60f</td>\n",
       "      <td>D'aww! He matches this background colour I'm s...</td>\n",
       "      <td>0</td>\n",
       "      <td>0</td>\n",
       "      <td>0</td>\n",
       "      <td>0</td>\n",
       "      <td>0</td>\n",
       "      <td>0</td>\n",
       "    </tr>\n",
       "    <tr>\n",
       "      <th>2</th>\n",
       "      <td>000113f07ec002fd</td>\n",
       "      <td>Hey man, I'm really not trying to edit war. It...</td>\n",
       "      <td>0</td>\n",
       "      <td>0</td>\n",
       "      <td>0</td>\n",
       "      <td>0</td>\n",
       "      <td>0</td>\n",
       "      <td>0</td>\n",
       "    </tr>\n",
       "    <tr>\n",
       "      <th>3</th>\n",
       "      <td>0001b41b1c6bb37e</td>\n",
       "      <td>\"\\nMore\\nI can't make any real suggestions on ...</td>\n",
       "      <td>0</td>\n",
       "      <td>0</td>\n",
       "      <td>0</td>\n",
       "      <td>0</td>\n",
       "      <td>0</td>\n",
       "      <td>0</td>\n",
       "    </tr>\n",
       "    <tr>\n",
       "      <th>4</th>\n",
       "      <td>0001d958c54c6e35</td>\n",
       "      <td>You, sir, are my hero. Any chance you remember...</td>\n",
       "      <td>0</td>\n",
       "      <td>0</td>\n",
       "      <td>0</td>\n",
       "      <td>0</td>\n",
       "      <td>0</td>\n",
       "      <td>0</td>\n",
       "    </tr>\n",
       "  </tbody>\n",
       "</table>\n",
       "</div>"
      ],
      "text/plain": [
       "                 id                                       comment_text  toxic  \\\n",
       "0  0000997932d777bf  Explanation\\nWhy the edits made under my usern...      0   \n",
       "1  000103f0d9cfb60f  D'aww! He matches this background colour I'm s...      0   \n",
       "2  000113f07ec002fd  Hey man, I'm really not trying to edit war. It...      0   \n",
       "3  0001b41b1c6bb37e  \"\\nMore\\nI can't make any real suggestions on ...      0   \n",
       "4  0001d958c54c6e35  You, sir, are my hero. Any chance you remember...      0   \n",
       "\n",
       "   severe_toxic  obscene  threat  insult  identity_hate  \n",
       "0             0        0       0       0              0  \n",
       "1             0        0       0       0              0  \n",
       "2             0        0       0       0              0  \n",
       "3             0        0       0       0              0  \n",
       "4             0        0       0       0              0  "
      ]
     },
     "execution_count": 3,
     "metadata": {},
     "output_type": "execute_result"
    }
   ],
   "source": [
    "train_data = pd.read_csv('./data/train.csv')\n",
    "train_data.head()"
   ]
  },
  {
   "cell_type": "code",
   "execution_count": 4,
   "metadata": {},
   "outputs": [
    {
     "data": {
      "text/plain": [
       "(159571, 8)"
      ]
     },
     "execution_count": 4,
     "metadata": {},
     "output_type": "execute_result"
    }
   ],
   "source": [
    "train_data.shape"
   ]
  },
  {
   "cell_type": "code",
   "execution_count": 5,
   "metadata": {},
   "outputs": [
    {
     "data": {
      "text/plain": [
       "Index(['id', 'comment_text', 'toxic', 'severe_toxic', 'obscene', 'threat',\n",
       "       'insult', 'identity_hate'],\n",
       "      dtype='object')"
      ]
     },
     "execution_count": 5,
     "metadata": {},
     "output_type": "execute_result"
    }
   ],
   "source": [
    "train_data.columns"
   ]
  },
  {
   "cell_type": "code",
   "execution_count": 6,
   "metadata": {},
   "outputs": [
    {
     "data": {
      "text/plain": [
       "(159571, 7)"
      ]
     },
     "execution_count": 6,
     "metadata": {},
     "output_type": "execute_result"
    }
   ],
   "source": [
    "train_data.drop_duplicates(inplace=True)\n",
    "data = train_data.drop(columns=['id'])\n",
    "data.shape"
   ]
  },
  {
   "cell_type": "code",
   "execution_count": 7,
   "metadata": {},
   "outputs": [
    {
     "data": {
      "text/plain": [
       "comment_text     0\n",
       "toxic            0\n",
       "severe_toxic     0\n",
       "obscene          0\n",
       "threat           0\n",
       "insult           0\n",
       "identity_hate    0\n",
       "dtype: int64"
      ]
     },
     "execution_count": 7,
     "metadata": {},
     "output_type": "execute_result"
    }
   ],
   "source": [
    "data.isna().sum()"
   ]
  },
  {
   "cell_type": "code",
   "execution_count": 8,
   "metadata": {},
   "outputs": [
    {
     "data": {
      "text/plain": [
       "comment_text     0\n",
       "toxic            0\n",
       "severe_toxic     0\n",
       "obscene          0\n",
       "threat           0\n",
       "insult           0\n",
       "identity_hate    0\n",
       "dtype: int64"
      ]
     },
     "execution_count": 8,
     "metadata": {},
     "output_type": "execute_result"
    }
   ],
   "source": [
    "data.isnull().sum()"
   ]
  },
  {
   "cell_type": "code",
   "execution_count": 9,
   "metadata": {},
   "outputs": [],
   "source": [
    "tf = TfidfVectorizer(analyzer='word',lowercase=True, min_df = 2,max_df = 0.9,\n",
    "                     strip_accents='unicode', sublinear_tf=1)\n",
    "\n",
    "X =  tf.fit_transform(data[\"comment_text\"])\n",
    "y = data.toxic"
   ]
  },
  {
   "cell_type": "code",
   "execution_count": 10,
   "metadata": {},
   "outputs": [
    {
     "name": "stdout",
     "output_type": "stream",
     "text": [
      "(159571, 74896)\n",
      "(159571,)\n"
     ]
    }
   ],
   "source": [
    "print(X.shape)\n",
    "print(y.shape)"
   ]
  },
  {
   "cell_type": "code",
   "execution_count": 11,
   "metadata": {},
   "outputs": [],
   "source": [
    "def train_model(classifier, X, y, size_of_test = 0.20, seed = 2):\n",
    "    \n",
    "    # Split Train Dataset into Train-Test and Train the Classifier\n",
    "    X_train, X_test, y_train, y_test = train_test_split(X, y, test_size = size_of_test,\n",
    "                                                        random_state = seed)\n",
    "    \n",
    "    print('-------------------------------------------------------')\n",
    "    print('Number of examples in our data is', X.shape[0])\n",
    "    print('Number of examples in Training data is', X_train.shape[0])\n",
    "    print('Number of examples in Testing data is', X_test.shape[0])\n",
    "    \n",
    "    t0 = time()    \n",
    "    print('Classifier used: ', classifier.__class__.__name__)\n",
    "    \n",
    "    #Train the Classifier\n",
    "    classifier.fit(X_train,y_train)\n",
    "    print(\"Classifier training completed in %0.3fs\" % (time() - t0))\n",
    "    \n",
    "    # Generate Predictions\n",
    "    y_pred = classifier.predict(X_test)\n",
    "    \n",
    "    #Checking for the Accuracy\n",
    "    print(\"Accuracy: %0.3f %%\" % (accuracy_score(y_test,y_pred) * 100.0))"
   ]
  },
  {
   "cell_type": "code",
   "execution_count": 12,
   "metadata": {},
   "outputs": [],
   "source": [
    "def train_model_with_cv(classifier, X, y, k = 5, size_of_test = 0.20, seed = 2):\n",
    "    \n",
    "    t0 = time()\n",
    "    print('-------------------------------------------------------')\n",
    "    print('Classifier used: ', classifier.__class__.__name__)    \n",
    "    cv_scores = cross_val_score(classifier, X, y, cv=k, scoring=\"accuracy\")    \n",
    "    print(\"Classifier training completed in %0.3fs\" % (time() - t0))\n",
    "    print('The number of folds used: ', k)    \n",
    "    print(\"Mean Accuracy: %0.3f %%\" % (np.round(np.mean(cv_scores),3) * 100.0))"
   ]
  },
  {
   "cell_type": "code",
   "execution_count": 13,
   "metadata": {},
   "outputs": [
    {
     "name": "stdout",
     "output_type": "stream",
     "text": [
      "-------------------------------------------------------\n",
      "Number of examples in our data is 159571\n",
      "Number of examples in Training data is 127656\n",
      "Number of examples in Testing data is 31915\n",
      "Classifier used:  MultinomialNB\n",
      "Classifier training completed in 0.045s\n",
      "Accuracy: 92.837 %\n"
     ]
    }
   ],
   "source": [
    "mnb_clf = MultinomialNB()\n",
    "train_model(mnb_clf, X, y)"
   ]
  },
  {
   "cell_type": "code",
   "execution_count": 14,
   "metadata": {},
   "outputs": [],
   "source": [
    "k = [5,10] # For K-fold"
   ]
  },
  {
   "cell_type": "code",
   "execution_count": 15,
   "metadata": {},
   "outputs": [
    {
     "name": "stdout",
     "output_type": "stream",
     "text": [
      "-------------------------------------------------------\n",
      "Classifier used:  MultinomialNB\n",
      "Classifier training completed in 0.932s\n",
      "The number of folds used:  5\n",
      "Mean Accuracy: 93.000 %\n",
      "-------------------------------------------------------\n",
      "Classifier used:  MultinomialNB\n",
      "Classifier training completed in 1.408s\n",
      "The number of folds used:  10\n",
      "Mean Accuracy: 93.100 %\n"
     ]
    }
   ],
   "source": [
    "for i in k:\n",
    "    train_model_with_cv(mnb_clf, X, y, k = i)    "
   ]
  },
  {
   "cell_type": "code",
   "execution_count": 16,
   "metadata": {},
   "outputs": [
    {
     "name": "stdout",
     "output_type": "stream",
     "text": [
      "-------------------------------------------------------\n",
      "Number of examples in our data is 159571\n",
      "Number of examples in Training data is 127656\n",
      "Number of examples in Testing data is 31915\n",
      "Classifier used:  SGDClassifier\n",
      "Classifier training completed in 3.016s\n",
      "Accuracy: 94.467 %\n"
     ]
    }
   ],
   "source": [
    "sgd_clf = SGDClassifier(penalty='l2',max_iter=100, tol=None)\n",
    "train_model(sgd_clf, X, y)"
   ]
  },
  {
   "cell_type": "code",
   "execution_count": 17,
   "metadata": {},
   "outputs": [
    {
     "name": "stdout",
     "output_type": "stream",
     "text": [
      "-------------------------------------------------------\n",
      "Classifier used:  SGDClassifier\n",
      "Classifier training completed in 15.133s\n",
      "The number of folds used:  5\n",
      "Mean Accuracy: 94.500 %\n",
      "-------------------------------------------------------\n",
      "Classifier used:  SGDClassifier\n",
      "Classifier training completed in 35.361s\n",
      "The number of folds used:  10\n",
      "Mean Accuracy: 94.500 %\n"
     ]
    }
   ],
   "source": [
    "for i in k:\n",
    "    train_model_with_cv(sgd_clf, X, y, k = i)    "
   ]
  },
  {
   "cell_type": "code",
   "execution_count": 18,
   "metadata": {},
   "outputs": [],
   "source": [
    "rf_clf = RandomForestClassifier()\n",
    "lr_clf = LogisticRegression()\n",
    "svm_clf = SVC()"
   ]
  },
  {
   "cell_type": "code",
   "execution_count": 19,
   "metadata": {},
   "outputs": [
    {
     "name": "stdout",
     "output_type": "stream",
     "text": [
      "-------------------------------------------------------\n",
      "Number of examples in our data is 159571\n",
      "Number of examples in Training data is 127656\n",
      "Number of examples in Testing data is 31915\n",
      "Classifier used:  RandomForestClassifier\n",
      "Classifier training completed in 53.451s\n",
      "Accuracy: 93.771 %\n",
      "-------------------------------------------------------\n",
      "Number of examples in our data is 159571\n",
      "Number of examples in Training data is 127656\n",
      "Number of examples in Testing data is 31915\n",
      "Classifier used:  LogisticRegression\n",
      "Classifier training completed in 1.633s\n",
      "Accuracy: 95.588 %\n",
      "-------------------------------------------------------\n",
      "Number of examples in our data is 159571\n",
      "Number of examples in Training data is 127656\n",
      "Number of examples in Testing data is 31915\n",
      "Classifier used:  SVC\n",
      "Classifier training completed in 1061.665s\n",
      "Accuracy: 90.315 %\n"
     ]
    }
   ],
   "source": [
    "clf_list = [rf_clf, lr_clf, svm_clf]\n",
    "\n",
    "for clf in clf_list:\n",
    "    train_model(clf, X, y)"
   ]
  },
  {
   "cell_type": "code",
   "execution_count": 20,
   "metadata": {},
   "outputs": [
    {
     "name": "stdout",
     "output_type": "stream",
     "text": [
      "-------------------------------------------------------\n",
      "Classifier used:  RandomForestClassifier\n",
      "Classifier training completed in 246.787s\n",
      "The number of folds used:  5\n",
      "Mean Accuracy: 93.900 %\n",
      "-------------------------------------------------------\n",
      "Classifier used:  LogisticRegression\n",
      "Classifier training completed in 8.017s\n",
      "The number of folds used:  5\n",
      "Mean Accuracy: 95.700 %\n"
     ]
    }
   ],
   "source": [
    "clf_list = [rf_clf, lr_clf]\n",
    "\n",
    "for clf in clf_list:\n",
    "    train_model_with_cv(clf, X, y, 5)"
   ]
  },
  {
   "cell_type": "code",
   "execution_count": 21,
   "metadata": {},
   "outputs": [],
   "source": [
    "xgb_clf = XGBClassifier()"
   ]
  },
  {
   "cell_type": "code",
   "execution_count": 22,
   "metadata": {},
   "outputs": [
    {
     "name": "stdout",
     "output_type": "stream",
     "text": [
      "-------------------------------------------------------\n",
      "Number of examples in our data is 159571\n",
      "Number of examples in Training data is 127656\n",
      "Number of examples in Testing data is 31915\n",
      "Classifier used:  XGBClassifier\n",
      "Classifier training completed in 62.999s\n",
      "Accuracy: 94.009 %\n"
     ]
    },
    {
     "name": "stderr",
     "output_type": "stream",
     "text": [
      "/usr/local/lib/python3.7/site-packages/sklearn/preprocessing/label.py:151: DeprecationWarning: The truth value of an empty array is ambiguous. Returning False, but in future this will result in an error. Use `array.size > 0` to check that an array is not empty.\n",
      "  if diff:\n"
     ]
    }
   ],
   "source": [
    "train_model(xgb_clf, X, y)"
   ]
  },
  {
   "cell_type": "code",
   "execution_count": 23,
   "metadata": {},
   "outputs": [
    {
     "name": "stdout",
     "output_type": "stream",
     "text": [
      "-------------------------------------------------------\n",
      "Classifier used:  XGBClassifier\n"
     ]
    },
    {
     "name": "stderr",
     "output_type": "stream",
     "text": [
      "/usr/local/lib/python3.7/site-packages/sklearn/preprocessing/label.py:151: DeprecationWarning: The truth value of an empty array is ambiguous. Returning False, but in future this will result in an error. Use `array.size > 0` to check that an array is not empty.\n",
      "  if diff:\n",
      "/usr/local/lib/python3.7/site-packages/sklearn/preprocessing/label.py:151: DeprecationWarning: The truth value of an empty array is ambiguous. Returning False, but in future this will result in an error. Use `array.size > 0` to check that an array is not empty.\n",
      "  if diff:\n",
      "/usr/local/lib/python3.7/site-packages/sklearn/preprocessing/label.py:151: DeprecationWarning: The truth value of an empty array is ambiguous. Returning False, but in future this will result in an error. Use `array.size > 0` to check that an array is not empty.\n",
      "  if diff:\n",
      "/usr/local/lib/python3.7/site-packages/sklearn/preprocessing/label.py:151: DeprecationWarning: The truth value of an empty array is ambiguous. Returning False, but in future this will result in an error. Use `array.size > 0` to check that an array is not empty.\n",
      "  if diff:\n"
     ]
    },
    {
     "name": "stdout",
     "output_type": "stream",
     "text": [
      "Classifier training completed in 324.085s\n",
      "The number of folds used:  5\n",
      "Mean Accuracy: 94.100 %\n"
     ]
    },
    {
     "name": "stderr",
     "output_type": "stream",
     "text": [
      "/usr/local/lib/python3.7/site-packages/sklearn/preprocessing/label.py:151: DeprecationWarning: The truth value of an empty array is ambiguous. Returning False, but in future this will result in an error. Use `array.size > 0` to check that an array is not empty.\n",
      "  if diff:\n"
     ]
    }
   ],
   "source": [
    "train_model_with_cv(xgb_clf, X, y, 5)"
   ]
  },
  {
   "cell_type": "code",
   "execution_count": 24,
   "metadata": {},
   "outputs": [],
   "source": [
    "bag_clf = BaggingClassifier(\n",
    "    DecisionTreeClassifier(), n_estimators=500,\n",
    "    max_samples=100, bootstrap=True, n_jobs=-1)"
   ]
  },
  {
   "cell_type": "code",
   "execution_count": 26,
   "metadata": {},
   "outputs": [
    {
     "name": "stdout",
     "output_type": "stream",
     "text": [
      "-------------------------------------------------------\n",
      "Number of examples in our data is 159571\n",
      "Number of examples in Training data is 127656\n",
      "Number of examples in Testing data is 31915\n",
      "Classifier used:  BaggingClassifier\n",
      "Classifier training completed in 54.592s\n",
      "Accuracy: 90.418 %\n"
     ]
    }
   ],
   "source": [
    "train_model(bag_clf, X, y)"
   ]
  },
  {
   "cell_type": "code",
   "execution_count": 27,
   "metadata": {},
   "outputs": [],
   "source": [
    "param_grid = {'C': [0.001, 0.01, 0.1, 1, 10, 100, 1000]}\n",
    "gs_clf = GridSearchCV(lr_clf, param_grid , cv = 10)"
   ]
  },
  {
   "cell_type": "code",
   "execution_count": 28,
   "metadata": {},
   "outputs": [
    {
     "name": "stdout",
     "output_type": "stream",
     "text": [
      "-------------------------------------------------------\n",
      "Number of examples in our data is 159571\n",
      "Number of examples in Training data is 127656\n",
      "Number of examples in Testing data is 31915\n",
      "Classifier used:  GridSearchCV\n",
      "Classifier training completed in 180.836s\n",
      "Accuracy: 96.099 %\n"
     ]
    }
   ],
   "source": [
    "train_model(gs_clf,X,y)"
   ]
  },
  {
   "cell_type": "code",
   "execution_count": 38,
   "metadata": {},
   "outputs": [
    {
     "name": "stdout",
     "output_type": "stream",
     "text": [
      "Classifier used:  GridSearchCV\n",
      "Classifier training completed in 537.487s\n",
      "The number of folds used:  5\n",
      "Mean Accuracy: 96.000 %\n",
      "Classifier used:  GridSearchCV\n",
      "Classifier training completed in 1344.117s\n",
      "The number of folds used:  10\n",
      "Mean Accuracy: 96.000 %\n"
     ]
    }
   ],
   "source": [
    "# This is a brute-force search\n",
    "#train_model_with_cv(gs_clf, X, y, 5)"
   ]
  },
  {
   "cell_type": "markdown",
   "metadata": {},
   "source": [
    "#### Confusion Matrix"
   ]
  },
  {
   "cell_type": "code",
   "execution_count": 31,
   "metadata": {},
   "outputs": [
    {
     "name": "stdout",
     "output_type": "stream",
     "text": [
      "-------------------------------------------------------\n",
      "Number of examples in our data is 159571\n",
      "Number of examples in Training data is 127656\n",
      "Number of examples in Testing data is 31915\n",
      "Classifier used:  LogisticRegression\n",
      "Classifier training completed in 1.802s\n",
      "Accuracy: 95.588 %\n"
     ]
    }
   ],
   "source": [
    "# Using Logistic Regression only\n",
    "# Split Train Dataset into Train-Test and Train the Classifier\n",
    "X_train, X_test, y_train, y_test = train_test_split(X, y, test_size = 0.2,\n",
    "                                                    random_state = 2)\n",
    "\n",
    "print('-------------------------------------------------------')\n",
    "print('Number of examples in our data is', X.shape[0])\n",
    "print('Number of examples in Training data is', X_train.shape[0])\n",
    "print('Number of examples in Testing data is', X_test.shape[0])\n",
    "\n",
    "t0 = time()    \n",
    "print('Classifier used: ', lr_clf.__class__.__name__)\n",
    "\n",
    "#Train the Classifier\n",
    "lr_clf.fit(X_train,y_train)\n",
    "print(\"Classifier training completed in %0.3fs\" % (time() - t0))\n",
    "\n",
    "# Generate Predictions\n",
    "y_pred = lr_clf.predict(X_test)\n",
    "\n",
    "#Checking for the Accuracy\n",
    "print(\"Accuracy: %0.3f %%\" % (accuracy_score(y_test,y_pred) * 100.0))"
   ]
  },
  {
   "cell_type": "code",
   "execution_count": 32,
   "metadata": {},
   "outputs": [],
   "source": [
    "# Main idea - https://bit.ly/2DCTGd5\n",
    "def get_confusion_matrix(cm, classes,normalize=False,title='Confusion matrix',cmap=plt.cm.Blues):\n",
    "    \n",
    "    if normalize:\n",
    "        cm = cm.astype('float') / cm.sum(axis=1)[:, np.newaxis]\n",
    "        print(\"Normalized confusion matrix\")\n",
    "    else:\n",
    "        print('Confusion matrix, without normalization')\n",
    "\n",
    "\n",
    "    plt.imshow(cm, interpolation='nearest', cmap=cmap)\n",
    "    plt.title(title)\n",
    "    plt.colorbar()\n",
    "    tick_marks = np.arange(len(classes))\n",
    "    plt.xticks(tick_marks, classes, rotation=45)\n",
    "    plt.yticks(tick_marks, classes)\n",
    "\n",
    "    fmt = '.2f' if normalize else 'd'\n",
    "    thresh = cm.max() / 2.\n",
    "    for i, j in itertools.product(range(cm.shape[0]), range(cm.shape[1])):\n",
    "        plt.text(j, i, format(cm[i, j], fmt),\n",
    "                 horizontalalignment=\"center\",\n",
    "                 color=\"white\" if cm[i, j] > thresh else \"black\")\n",
    "\n",
    "    plt.ylabel('True label')\n",
    "    plt.xlabel('Predicted label')\n",
    "    plt.tight_layout()"
   ]
  },
  {
   "cell_type": "code",
   "execution_count": 34,
   "metadata": {},
   "outputs": [
    {
     "name": "stdout",
     "output_type": "stream",
     "text": [
      "Confusion matrix, without normalization\n",
      "Normalized confusion matrix\n"
     ]
    },
    {
     "data": {
      "image/png": "[encoded data removed]",
      "text/plain": [
       "<Figure size 432x288 with 2 Axes>"
      ]
     },
     "metadata": {
      "needs_background": "light"
     },
     "output_type": "display_data"
    },
    {
     "data": {
      "image/png": "[encoded data removed]",
      "text/plain": [
       "<Figure size 432x288 with 2 Axes>"
      ]
     },
     "metadata": {
      "needs_background": "light"
     },
     "output_type": "display_data"
    }
   ],
   "source": [
    "cnf_matrix = confusion_matrix(y_test, y_pred)\n",
    "np.set_printoptions(precision=2)\n",
    "class_names = ['Toxic','Not Toxic']\n",
    "\n",
    "# Plot Confusion matrix\n",
    "plt.figure()\n",
    "get_confusion_matrix(cnf_matrix, classes= class_names,\n",
    "                      title='Confusion Matrix')\n",
    "\n",
    "# Plot Normalized Confusion matrix\n",
    "plt.figure()\n",
    "get_confusion_matrix(cnf_matrix, classes=class_names, normalize=True,\n",
    "                      title='Normalized Confusion Matrix')\n",
    "\n",
    "plt.show()"
   ]
  }
 ],
 "metadata": {
  "kernelspec": {
   "display_name": "Python 3",
   "language": "python",
   "name": "python3"
  },
  "language_info": {
   "codemirror_mode": {
    "name": "ipython",
    "version": 3
   },
   "file_extension": ".py",
   "mimetype": "text/x-python",
   "name": "python",
   "nbconvert_exporter": "python",
   "pygments_lexer": "ipython3",
   "version": "3.7.2"
  },
  "latex_envs": {
   "LaTeX_envs_menu_present": true,
   "autoclose": false,
   "autocomplete": true,
   "bibliofile": "biblio.bib",
   "cite_by": "apalike",
   "current_citInitial": 1,
   "eqLabelWithNumbers": true,
   "eqNumInitial": 1,
   "hotkeys": {
    "equation": "Ctrl-E",
    "itemize": "Ctrl-I"
   },
   "labels_anchors": false,
   "latex_user_defs": false,
   "report_style_numbering": false,
   "user_envs_cfg": false
  }
 },
 "nbformat": 4,
 "nbformat_minor": 2
}
