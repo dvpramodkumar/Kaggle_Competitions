{
 "cells": [
  {
   "cell_type": "code",
   "execution_count": 1,
   "metadata": {},
   "outputs": [],
   "source": [
    "import warnings\n",
    "warnings.filterwarnings(\"ignore\")"
   ]
  },
  {
   "cell_type": "code",
   "execution_count": 2,
   "metadata": {},
   "outputs": [],
   "source": [
    "import pandas as pd\n",
    "import numpy as np\n",
    "from sklearn.feature_extraction.text import TfidfVectorizer\n",
    "from sklearn.model_selection import train_test_split\n",
    "from sklearn.naive_bayes import MultinomialNB\n",
    "from sklearn.linear_model import LogisticRegression\n",
    "from sklearn.metrics import accuracy_score\n",
    "from sklearn.model_selection import cross_val_score\n",
    "from time import time"
   ]
  },
  {
   "cell_type": "code",
   "execution_count": 3,
   "metadata": {},
   "outputs": [
    {
     "data": {
      "text/html": [
       "<div>\n",
       "<style scoped>\n",
       "    .dataframe tbody tr th:only-of-type {\n",
       "        vertical-align: middle;\n",
       "    }\n",
       "\n",
       "    .dataframe tbody tr th {\n",
       "        vertical-align: top;\n",
       "    }\n",
       "\n",
       "    .dataframe thead th {\n",
       "        text-align: right;\n",
       "    }\n",
       "</style>\n",
       "<table border=\"1\" class=\"dataframe\">\n",
       "  <thead>\n",
       "    <tr style=\"text-align: right;\">\n",
       "      <th></th>\n",
       "      <th>id</th>\n",
       "      <th>comment_text</th>\n",
       "      <th>toxic</th>\n",
       "      <th>severe_toxic</th>\n",
       "      <th>obscene</th>\n",
       "      <th>threat</th>\n",
       "      <th>insult</th>\n",
       "      <th>identity_hate</th>\n",
       "    </tr>\n",
       "  </thead>\n",
       "  <tbody>\n",
       "    <tr>\n",
       "      <th>0</th>\n",
       "      <td>0000997932d777bf</td>\n",
       "      <td>Explanation\\nWhy the edits made under my usern...</td>\n",
       "      <td>0</td>\n",
       "      <td>0</td>\n",
       "      <td>0</td>\n",
       "      <td>0</td>\n",
       "      <td>0</td>\n",
       "      <td>0</td>\n",
       "    </tr>\n",
       "    <tr>\n",
       "      <th>1</th>\n",
       "      <td>000103f0d9cfb60f</td>\n",
       "      <td>D'aww! He matches this background colour I'm s...</td>\n",
       "      <td>0</td>\n",
       "      <td>0</td>\n",
       "      <td>0</td>\n",
       "      <td>0</td>\n",
       "      <td>0</td>\n",
       "      <td>0</td>\n",
       "    </tr>\n",
       "    <tr>\n",
       "      <th>2</th>\n",
       "      <td>000113f07ec002fd</td>\n",
       "      <td>Hey man, I'm really not trying to edit war. It...</td>\n",
       "      <td>0</td>\n",
       "      <td>0</td>\n",
       "      <td>0</td>\n",
       "      <td>0</td>\n",
       "      <td>0</td>\n",
       "      <td>0</td>\n",
       "    </tr>\n",
       "    <tr>\n",
       "      <th>3</th>\n",
       "      <td>0001b41b1c6bb37e</td>\n",
       "      <td>\"\\nMore\\nI can't make any real suggestions on ...</td>\n",
       "      <td>0</td>\n",
       "      <td>0</td>\n",
       "      <td>0</td>\n",
       "      <td>0</td>\n",
       "      <td>0</td>\n",
       "      <td>0</td>\n",
       "    </tr>\n",
       "    <tr>\n",
       "      <th>4</th>\n",
       "      <td>0001d958c54c6e35</td>\n",
       "      <td>You, sir, are my hero. Any chance you remember...</td>\n",
       "      <td>0</td>\n",
       "      <td>0</td>\n",
       "      <td>0</td>\n",
       "      <td>0</td>\n",
       "      <td>0</td>\n",
       "      <td>0</td>\n",
       "    </tr>\n",
       "  </tbody>\n",
       "</table>\n",
       "</div>"
      ],
      "text/plain": [
       "                 id                                       comment_text  toxic  \\\n",
       "0  0000997932d777bf  Explanation\\nWhy the edits made under my usern...      0   \n",
       "1  000103f0d9cfb60f  D'aww! He matches this background colour I'm s...      0   \n",
       "2  000113f07ec002fd  Hey man, I'm really not trying to edit war. It...      0   \n",
       "3  0001b41b1c6bb37e  \"\\nMore\\nI can't make any real suggestions on ...      0   \n",
       "4  0001d958c54c6e35  You, sir, are my hero. Any chance you remember...      0   \n",
       "\n",
       "   severe_toxic  obscene  threat  insult  identity_hate  \n",
       "0             0        0       0       0              0  \n",
       "1             0        0       0       0              0  \n",
       "2             0        0       0       0              0  \n",
       "3             0        0       0       0              0  \n",
       "4             0        0       0       0              0  "
      ]
     },
     "execution_count": 3,
     "metadata": {},
     "output_type": "execute_result"
    }
   ],
   "source": [
    "train_data = pd.read_csv('./data/train.csv')\n",
    "train_data.head()"
   ]
  },
  {
   "cell_type": "code",
   "execution_count": 4,
   "metadata": {},
   "outputs": [
    {
     "data": {
      "text/plain": [
       "(159571, 7)"
      ]
     },
     "execution_count": 4,
     "metadata": {},
     "output_type": "execute_result"
    }
   ],
   "source": [
    "train_data.drop_duplicates(inplace=True)\n",
    "data = train_data.drop(columns=['id'])\n",
    "data.shape"
   ]
  },
  {
   "cell_type": "code",
   "execution_count": 5,
   "metadata": {},
   "outputs": [],
   "source": [
    "tf = TfidfVectorizer(analyzer='word',lowercase=True, min_df = 2,max_df = 0.9,\n",
    "                     strip_accents='unicode', sublinear_tf=1)\n",
    "\n",
    "X =  tf.fit_transform(data[\"comment_text\"])"
   ]
  },
  {
   "cell_type": "code",
   "execution_count": 6,
   "metadata": {},
   "outputs": [],
   "source": [
    "def train_model(classifier, X, y, size_of_test = 0.20, seed = 2):\n",
    "    \n",
    "    # Split Train Dataset into Train-Test and Train the Classifier\n",
    "    X_train, X_test, y_train, y_test = train_test_split(X, y, test_size = size_of_test,\n",
    "                                                        random_state = seed)\n",
    "    \n",
    "    print('-------------------------------------------------------')\n",
    "    print('Number of examples in our data is', X.shape[0])\n",
    "    print('Number of examples in Training data is', X_train.shape[0])\n",
    "    print('Number of examples in Testing data is', X_test.shape[0])\n",
    "    print('-------------------------------------------------------')\n",
    "    \n",
    "    t0 = time()    \n",
    "    print('Classifier used:', classifier.__class__.__name__)\n",
    "    \n",
    "    #Train the Classifier\n",
    "    classifier.fit(X_train,y_train)\n",
    "    print(\"Classifier training completed in %0.3fs\" % (time() - t0))\n",
    "    \n",
    "    # Generate Predictions\n",
    "    y_pred = classifier.predict(X_test)\n",
    "    \n",
    "    #Checking for the Accuracy\n",
    "    print(\"Accuracy: %0.3f %%\" % (accuracy_score(y_test,y_pred) * 100.0))"
   ]
  },
  {
   "cell_type": "code",
   "execution_count": 7,
   "metadata": {},
   "outputs": [],
   "source": [
    "def train_model_with_cv(classifier, X, y, k = 5, size_of_test = 0.20, seed = 2):\n",
    "    \n",
    "    t0 = time()\n",
    "    print('-------------------------------------------------------')\n",
    "    print('Classifier used: ', classifier.__class__.__name__)    \n",
    "    cv_scores = cross_val_score(classifier, X, y, cv=k, scoring=\"accuracy\")    \n",
    "    print(\"Classifier training completed in %0.3fs\" % (time() - t0))\n",
    "    print('The number of folds used: ', k)    \n",
    "    print(\"Mean Accuracy: %0.3f %%\" % (np.round(np.mean(cv_scores),3) * 100.0))"
   ]
  },
  {
   "cell_type": "code",
   "execution_count": 8,
   "metadata": {},
   "outputs": [
    {
     "data": {
      "text/plain": [
       "Index(['comment_text', 'toxic', 'severe_toxic', 'obscene', 'threat', 'insult',\n",
       "       'identity_hate'],\n",
       "      dtype='object')"
      ]
     },
     "execution_count": 8,
     "metadata": {},
     "output_type": "execute_result"
    }
   ],
   "source": [
    "data.columns"
   ]
  },
  {
   "cell_type": "code",
   "execution_count": 9,
   "metadata": {},
   "outputs": [],
   "source": [
    "classes_list = ['toxic', 'severe_toxic', 'obscene', 'threat', 'insult','identity_hate']"
   ]
  },
  {
   "cell_type": "code",
   "execution_count": 10,
   "metadata": {},
   "outputs": [],
   "source": [
    "k = [5,10] # For K-fold"
   ]
  },
  {
   "cell_type": "code",
   "execution_count": 11,
   "metadata": {},
   "outputs": [],
   "source": [
    "mnb_clf = MultinomialNB()\n",
    "lr_clf = LogisticRegression()"
   ]
  },
  {
   "cell_type": "code",
   "execution_count": 12,
   "metadata": {},
   "outputs": [],
   "source": [
    "clf_list = [mnb_clf, lr_clf]"
   ]
  },
  {
   "cell_type": "markdown",
   "metadata": {},
   "source": [
    "#### Binary Classification of each class"
   ]
  },
  {
   "cell_type": "code",
   "execution_count": 13,
   "metadata": {},
   "outputs": [
    {
     "name": "stdout",
     "output_type": "stream",
     "text": [
      "-------------------------------------------------------\n",
      "-------------------------------------------------------\n",
      "The target label is toxic\n",
      "-------------------------------------------------------\n",
      "Number of examples in our data is 159571\n",
      "Number of examples in Training data is 127656\n",
      "Number of examples in Testing data is 31915\n",
      "-------------------------------------------------------\n",
      "Classifier used: MultinomialNB\n",
      "Classifier training completed in 0.045s\n",
      "Accuracy: 92.837 %\n",
      "-------------------------------------------------------\n",
      "-------------------------------------------------------\n",
      "The target label is severe_toxic\n",
      "-------------------------------------------------------\n",
      "Number of examples in our data is 159571\n",
      "Number of examples in Training data is 127656\n",
      "Number of examples in Testing data is 31915\n",
      "-------------------------------------------------------\n",
      "Classifier used: MultinomialNB\n",
      "Classifier training completed in 0.051s\n",
      "Accuracy: 98.919 %\n",
      "-------------------------------------------------------\n",
      "-------------------------------------------------------\n",
      "The target label is obscene\n",
      "-------------------------------------------------------\n",
      "Number of examples in our data is 159571\n",
      "Number of examples in Training data is 127656\n",
      "Number of examples in Testing data is 31915\n",
      "-------------------------------------------------------\n",
      "Classifier used: MultinomialNB\n",
      "Classifier training completed in 0.046s\n",
      "Accuracy: 95.751 %\n",
      "-------------------------------------------------------\n",
      "-------------------------------------------------------\n",
      "The target label is threat\n",
      "-------------------------------------------------------\n",
      "Number of examples in our data is 159571\n",
      "Number of examples in Training data is 127656\n",
      "Number of examples in Testing data is 31915\n",
      "-------------------------------------------------------\n",
      "Classifier used: MultinomialNB\n",
      "Classifier training completed in 0.044s\n",
      "Accuracy: 99.718 %\n",
      "-------------------------------------------------------\n",
      "-------------------------------------------------------\n",
      "The target label is insult\n",
      "-------------------------------------------------------\n",
      "Number of examples in our data is 159571\n",
      "Number of examples in Training data is 127656\n",
      "Number of examples in Testing data is 31915\n",
      "-------------------------------------------------------\n",
      "Classifier used: MultinomialNB\n",
      "Classifier training completed in 0.045s\n",
      "Accuracy: 95.663 %\n",
      "-------------------------------------------------------\n",
      "-------------------------------------------------------\n",
      "The target label is identity_hate\n",
      "-------------------------------------------------------\n",
      "Number of examples in our data is 159571\n",
      "Number of examples in Training data is 127656\n",
      "Number of examples in Testing data is 31915\n",
      "-------------------------------------------------------\n",
      "Classifier used: MultinomialNB\n",
      "Classifier training completed in 0.047s\n",
      "Accuracy: 99.163 %\n"
     ]
    }
   ],
   "source": [
    "for label in classes_list:\n",
    "    y = data[label]\n",
    "    print('-------------------------------------------------------')\n",
    "    print('-------------------------------------------------------')\n",
    "    print('The target label is', label)\n",
    "    train_model(mnb_clf,X,y)"
   ]
  },
  {
   "cell_type": "code",
   "execution_count": 14,
   "metadata": {},
   "outputs": [
    {
     "name": "stdout",
     "output_type": "stream",
     "text": [
      "-------------------------------------------------------\n",
      "-------------------------------------------------------\n",
      "The target label is toxic\n",
      "-------------------------------------------------------\n",
      "Number of examples in our data is 159571\n",
      "Number of examples in Training data is 127656\n",
      "Number of examples in Testing data is 31915\n",
      "-------------------------------------------------------\n",
      "Classifier used: LogisticRegression\n",
      "Classifier training completed in 1.656s\n",
      "Accuracy: 95.588 %\n",
      "-------------------------------------------------------\n",
      "-------------------------------------------------------\n",
      "The target label is severe_toxic\n",
      "-------------------------------------------------------\n",
      "Number of examples in our data is 159571\n",
      "Number of examples in Training data is 127656\n",
      "Number of examples in Testing data is 31915\n",
      "-------------------------------------------------------\n",
      "Classifier used: LogisticRegression\n",
      "Classifier training completed in 1.319s\n",
      "Accuracy: 98.975 %\n",
      "-------------------------------------------------------\n",
      "-------------------------------------------------------\n",
      "The target label is obscene\n",
      "-------------------------------------------------------\n",
      "Number of examples in our data is 159571\n",
      "Number of examples in Training data is 127656\n",
      "Number of examples in Testing data is 31915\n",
      "-------------------------------------------------------\n",
      "Classifier used: LogisticRegression\n",
      "Classifier training completed in 1.360s\n",
      "Accuracy: 97.782 %\n",
      "-------------------------------------------------------\n",
      "-------------------------------------------------------\n",
      "The target label is threat\n",
      "-------------------------------------------------------\n",
      "Number of examples in our data is 159571\n",
      "Number of examples in Training data is 127656\n",
      "Number of examples in Testing data is 31915\n",
      "-------------------------------------------------------\n",
      "Classifier used: LogisticRegression\n",
      "Classifier training completed in 1.245s\n",
      "Accuracy: 99.740 %\n",
      "-------------------------------------------------------\n",
      "-------------------------------------------------------\n",
      "The target label is insult\n",
      "-------------------------------------------------------\n",
      "Number of examples in our data is 159571\n",
      "Number of examples in Training data is 127656\n",
      "Number of examples in Testing data is 31915\n",
      "-------------------------------------------------------\n",
      "Classifier used: LogisticRegression\n",
      "Classifier training completed in 1.460s\n",
      "Accuracy: 97.240 %\n",
      "-------------------------------------------------------\n",
      "-------------------------------------------------------\n",
      "The target label is identity_hate\n",
      "-------------------------------------------------------\n",
      "Number of examples in our data is 159571\n",
      "Number of examples in Training data is 127656\n",
      "Number of examples in Testing data is 31915\n",
      "-------------------------------------------------------\n",
      "Classifier used: LogisticRegression\n",
      "Classifier training completed in 1.135s\n",
      "Accuracy: 99.214 %\n"
     ]
    }
   ],
   "source": [
    "for label in classes_list:\n",
    "    y = data[label]\n",
    "    print('-------------------------------------------------------')\n",
    "    print('-------------------------------------------------------')\n",
    "    print('The target label is', label)\n",
    "    train_model(lr_clf,X,y)"
   ]
  },
  {
   "cell_type": "markdown",
   "metadata": {},
   "source": [
    "#### Code used to combine toxic and severe_toxic columns into single column named toxic (Commented)"
   ]
  },
  {
   "cell_type": "code",
   "execution_count": 15,
   "metadata": {},
   "outputs": [],
   "source": [
    "#l = []\n",
    "#count = 0\n",
    "#N = data.shape[0]\n",
    "\n",
    "#for i in range(N):\n",
    "#    if(data.toxic[i] == 1 or data.severe_toxic[i] == 1):\n",
    "#        count += 1\n",
    "#        l.append(i)\n",
    "#print(count)        "
   ]
  },
  {
   "cell_type": "code",
   "execution_count": 16,
   "metadata": {},
   "outputs": [],
   "source": [
    "#data['final_toxic'] = 0\n",
    "#for i in l:\n",
    "#    data.final_toxic[i] = 1"
   ]
  },
  {
   "cell_type": "code",
   "execution_count": 17,
   "metadata": {},
   "outputs": [],
   "source": [
    "#data.drop(columns=['toxic','severe_toxic'], inplace=True)\n",
    "#data.shape"
   ]
  },
  {
   "cell_type": "code",
   "execution_count": 18,
   "metadata": {
    "scrolled": false
   },
   "outputs": [],
   "source": [
    "#data.head(10)"
   ]
  },
  {
   "cell_type": "markdown",
   "metadata": {},
   "source": [
    "#### Code to convert six features into a single feature (Commented)"
   ]
  },
  {
   "cell_type": "code",
   "execution_count": 19,
   "metadata": {},
   "outputs": [],
   "source": [
    "#data['label'] = 'NON-TOXIC'\n",
    "\n",
    "#for i in range(N):\n",
    "#    print(N - i)\n",
    "#    iter_label = 'NON-TOXIC'\n",
    "    \n",
    "#    if(data.final_toxic[i] == 1):\n",
    "#        iter_label = 'TOXIC'\n",
    "#    elif(data.obscene[i] == 1):\n",
    "#        iter_label = 'OBSCENE'\n",
    "#    elif(data.threat[i] == 1):\n",
    "#        iter_label = 'THREAT'\n",
    "#    elif(data.insult[i] == 1):\n",
    "#        iter_label = 'INSULT'    \n",
    "#    elif(data.identity_hate[i] == 1):\n",
    "#        iter_label = 'HATE'\n",
    "        \n",
    "#    data.label[i] = iter_label    "
   ]
  },
  {
   "cell_type": "code",
   "execution_count": 20,
   "metadata": {},
   "outputs": [],
   "source": [
    "# final_data.to_csv('final_data.csv')"
   ]
  },
  {
   "cell_type": "code",
   "execution_count": 21,
   "metadata": {},
   "outputs": [],
   "source": [
    "# This function is written to handle the class imbalance\n",
    "def get_data(row_count = 16225, multiplier = 1.5):\n",
    "    final_data = pd.read_csv('./data/final_data.csv')\n",
    "    print('Total rows in the dataset:', final_data.shape[0])\n",
    "    final_data.drop(columns=['Unnamed: 0'], inplace= True)\n",
    "    final_data[\"label_idx\"] = final_data.label.map({'NON-TOXIC':0,'HATE':1,'INSULT':2,\n",
    "                                                'OBSCENE':3,'THREAT':4,'TOXIC':5})\n",
    "    nt_data = final_data[final_data.label_idx == 0]\n",
    "    toxic_data = final_data[final_data.label_idx != 0]\n",
    "    \n",
    "    non_toxic_data = nt_data.sample(round(row_count * multiplier))\n",
    "    train_data = pd.concat([non_toxic_data, toxic_data], axis=0)\n",
    "    \n",
    "    return train_data"
   ]
  },
  {
   "cell_type": "code",
   "execution_count": 22,
   "metadata": {},
   "outputs": [
    {
     "name": "stdout",
     "output_type": "stream",
     "text": [
      "Total rows in the dataset: 159571\n"
     ]
    },
    {
     "data": {
      "text/plain": [
       "(32450, 3)"
      ]
     },
     "execution_count": 22,
     "metadata": {},
     "output_type": "execute_result"
    }
   ],
   "source": [
    "train_df = get_data(multiplier=1)\n",
    "train_df.shape"
   ]
  },
  {
   "cell_type": "code",
   "execution_count": 23,
   "metadata": {},
   "outputs": [
    {
     "data": {
      "text/html": [
       "<div>\n",
       "<style scoped>\n",
       "    .dataframe tbody tr th:only-of-type {\n",
       "        vertical-align: middle;\n",
       "    }\n",
       "\n",
       "    .dataframe tbody tr th {\n",
       "        vertical-align: top;\n",
       "    }\n",
       "\n",
       "    .dataframe thead th {\n",
       "        text-align: right;\n",
       "    }\n",
       "</style>\n",
       "<table border=\"1\" class=\"dataframe\">\n",
       "  <thead>\n",
       "    <tr style=\"text-align: right;\">\n",
       "      <th></th>\n",
       "      <th>comment_text</th>\n",
       "      <th>label</th>\n",
       "    </tr>\n",
       "    <tr>\n",
       "      <th>label_idx</th>\n",
       "      <th></th>\n",
       "      <th></th>\n",
       "    </tr>\n",
       "  </thead>\n",
       "  <tbody>\n",
       "    <tr>\n",
       "      <th>0</th>\n",
       "      <td>16225</td>\n",
       "      <td>16225</td>\n",
       "    </tr>\n",
       "    <tr>\n",
       "      <th>1</th>\n",
       "      <td>54</td>\n",
       "      <td>54</td>\n",
       "    </tr>\n",
       "    <tr>\n",
       "      <th>2</th>\n",
       "      <td>329</td>\n",
       "      <td>329</td>\n",
       "    </tr>\n",
       "    <tr>\n",
       "      <th>3</th>\n",
       "      <td>523</td>\n",
       "      <td>523</td>\n",
       "    </tr>\n",
       "    <tr>\n",
       "      <th>4</th>\n",
       "      <td>25</td>\n",
       "      <td>25</td>\n",
       "    </tr>\n",
       "    <tr>\n",
       "      <th>5</th>\n",
       "      <td>15294</td>\n",
       "      <td>15294</td>\n",
       "    </tr>\n",
       "  </tbody>\n",
       "</table>\n",
       "</div>"
      ],
      "text/plain": [
       "           comment_text  label\n",
       "label_idx                     \n",
       "0                 16225  16225\n",
       "1                    54     54\n",
       "2                   329    329\n",
       "3                   523    523\n",
       "4                    25     25\n",
       "5                 15294  15294"
      ]
     },
     "execution_count": 23,
     "metadata": {},
     "output_type": "execute_result"
    }
   ],
   "source": [
    "train_df.groupby('label_idx').count()"
   ]
  },
  {
   "cell_type": "code",
   "execution_count": 28,
   "metadata": {},
   "outputs": [
    {
     "name": "stdout",
     "output_type": "stream",
     "text": [
      "-------------------------------------------------------\n",
      "Number of examples in our data is 32450\n",
      "Number of examples in Training data is 22715\n",
      "Number of examples in Testing data is 9735\n",
      "-------------------------------------------------------\n",
      "Classifier used: MultinomialNB\n",
      "Classifier training completed in 0.015s\n",
      "Accuracy: 86.328 %\n",
      "-------------------------------------------------------\n",
      "Number of examples in our data is 32450\n",
      "Number of examples in Training data is 22715\n",
      "Number of examples in Testing data is 9735\n",
      "-------------------------------------------------------\n",
      "Classifier used: LogisticRegression\n",
      "Classifier training completed in 0.853s\n",
      "Accuracy: 87.458 %\n"
     ]
    }
   ],
   "source": [
    "clf_list = [mnb_clf, lr_clf]\n",
    "X =  tf.fit_transform(train_df[\"comment_text\"])\n",
    "y = train_df.label_idx\n",
    "\n",
    "for clf in clf_list:\n",
    "    train_model(clf,X,y,size_of_test=0.3)"
   ]
  },
  {
   "cell_type": "code",
   "execution_count": 29,
   "metadata": {},
   "outputs": [
    {
     "name": "stdout",
     "output_type": "stream",
     "text": [
      "-------------------------------------------------------\n",
      "Classifier used:  MultinomialNB\n",
      "Classifier training completed in 0.137s\n",
      "The number of folds used:  5\n",
      "Mean Accuracy: 86.100 %\n",
      "-------------------------------------------------------\n",
      "Classifier used:  LogisticRegression\n",
      "Classifier training completed in 4.187s\n",
      "The number of folds used:  5\n",
      "Mean Accuracy: 87.100 %\n"
     ]
    }
   ],
   "source": [
    "for clf in clf_list:\n",
    "    train_model_with_cv(clf,X,y,5,size_of_test=0.3)"
   ]
  },
  {
   "cell_type": "code",
   "execution_count": 30,
   "metadata": {},
   "outputs": [
    {
     "name": "stdout",
     "output_type": "stream",
     "text": [
      "-------------------------------------------------------\n",
      "Classifier used:  MultinomialNB\n",
      "Classifier training completed in 0.265s\n",
      "The number of folds used:  10\n",
      "Mean Accuracy: 86.300 %\n",
      "-------------------------------------------------------\n",
      "Classifier used:  LogisticRegression\n",
      "Classifier training completed in 10.356s\n",
      "The number of folds used:  10\n",
      "Mean Accuracy: 87.300 %\n"
     ]
    }
   ],
   "source": [
    "for clf in clf_list:\n",
    "    train_model_with_cv(clf,X,y,10)"
   ]
  },
  {
   "cell_type": "code",
   "execution_count": 31,
   "metadata": {},
   "outputs": [
    {
     "name": "stderr",
     "output_type": "stream",
     "text": [
      "/usr/local/lib/python3.7/site-packages/sklearn/ensemble/weight_boosting.py:29: DeprecationWarning: numpy.core.umath_tests is an internal NumPy module and should not be imported. It will be removed in a future NumPy release.\n",
      "  from numpy.core.umath_tests import inner1d\n"
     ]
    }
   ],
   "source": [
    "from sklearn.feature_extraction.text import TfidfVectorizer\n",
    "from sklearn.linear_model import SGDClassifier\n",
    "from sklearn.ensemble import RandomForestClassifier\n",
    "from sklearn.svm import SVC\n",
    "from xgboost import XGBClassifier"
   ]
  },
  {
   "cell_type": "code",
   "execution_count": 32,
   "metadata": {},
   "outputs": [],
   "source": [
    "rf_clf = RandomForestClassifier()\n",
    "svm_clf = SVC()\n",
    "sgd_clf = SGDClassifier(penalty='l2',max_iter=100, tol=None)\n",
    "xgb_clf = XGBClassifier()"
   ]
  },
  {
   "cell_type": "code",
   "execution_count": 33,
   "metadata": {},
   "outputs": [],
   "source": [
    "clf_list = [rf_clf, svm_clf, sgd_clf, xgb_clf]"
   ]
  },
  {
   "cell_type": "code",
   "execution_count": 34,
   "metadata": {},
   "outputs": [
    {
     "name": "stdout",
     "output_type": "stream",
     "text": [
      "-------------------------------------------------------\n",
      "Number of examples in our data is 32450\n",
      "Number of examples in Training data is 25960\n",
      "Number of examples in Testing data is 6490\n",
      "-------------------------------------------------------\n",
      "Classifier used: RandomForestClassifier\n",
      "Classifier training completed in 5.665s\n",
      "Accuracy: 78.798 %\n",
      "-------------------------------------------------------\n",
      "Number of examples in our data is 32450\n",
      "Number of examples in Training data is 25960\n",
      "Number of examples in Testing data is 6490\n",
      "-------------------------------------------------------\n",
      "Classifier used: SVC\n",
      "Classifier training completed in 177.505s\n",
      "Accuracy: 51.063 %\n",
      "-------------------------------------------------------\n",
      "Number of examples in our data is 32450\n",
      "Number of examples in Training data is 25960\n",
      "Number of examples in Testing data is 6490\n",
      "-------------------------------------------------------\n",
      "Classifier used: SGDClassifier\n",
      "Classifier training completed in 3.193s\n",
      "Accuracy: 88.136 %\n",
      "-------------------------------------------------------\n",
      "Number of examples in our data is 32450\n",
      "Number of examples in Training data is 25960\n",
      "Number of examples in Testing data is 6490\n",
      "-------------------------------------------------------\n",
      "Classifier used: XGBClassifier\n",
      "Classifier training completed in 55.812s\n",
      "Accuracy: 81.387 %\n"
     ]
    },
    {
     "name": "stderr",
     "output_type": "stream",
     "text": [
      "/usr/local/lib/python3.7/site-packages/sklearn/preprocessing/label.py:151: DeprecationWarning: The truth value of an empty array is ambiguous. Returning False, but in future this will result in an error. Use `array.size > 0` to check that an array is not empty.\n",
      "  if diff:\n"
     ]
    }
   ],
   "source": [
    "for clf in clf_list:\n",
    "    train_model(clf,X,y)"
   ]
  },
  {
   "cell_type": "code",
   "execution_count": 40,
   "metadata": {},
   "outputs": [
    {
     "name": "stdout",
     "output_type": "stream",
     "text": [
      "-------------------------------------------------------\n",
      "Classifier used:  SGDClassifier\n",
      "Classifier training completed in 13.316s\n",
      "The number of folds used:  5\n",
      "Mean Accuracy: 87.800 %\n",
      "-------------------------------------------------------\n",
      "Classifier used:  SGDClassifier\n",
      "Classifier training completed in 28.666s\n",
      "The number of folds used:  10\n",
      "Mean Accuracy: 87.700 %\n"
     ]
    }
   ],
   "source": [
    "for k in [5,10]:\n",
    "    train_model_with_cv(sgd_clf, X, y, k)"
   ]
  },
  {
   "cell_type": "markdown",
   "metadata": {},
   "source": [
    "#### Best Classifier for Confusion Matrix"
   ]
  },
  {
   "cell_type": "code",
   "execution_count": 42,
   "metadata": {},
   "outputs": [
    {
     "name": "stdout",
     "output_type": "stream",
     "text": [
      "-------------------------------------------------------\n",
      "Number of examples in our data is 32450\n",
      "Number of examples in Training data is 25960\n",
      "Number of examples in Testing data is 6490\n",
      "-------------------------------------------------------\n",
      "Classifier used: SGDClassifier\n",
      "Classifier training completed in 3.230s\n"
     ]
    }
   ],
   "source": [
    "# Split Train Dataset into Train-Test and Train the Classifier\n",
    "X_train, X_test, y_train, y_test = train_test_split(X, y, test_size = 0.20,random_state = 2)\n",
    "\n",
    "print('-------------------------------------------------------')\n",
    "print('Number of examples in our data is', X.shape[0])\n",
    "print('Number of examples in Training data is', X_train.shape[0])\n",
    "print('Number of examples in Testing data is', X_test.shape[0])\n",
    "print('-------------------------------------------------------')\n",
    "\n",
    "t0 = time()    \n",
    "print('Classifier used:', sgd_clf.__class__.__name__)\n",
    "\n",
    "#Train the Classifier\n",
    "sgd_clf.fit(X_train,y_train)\n",
    "print(\"Classifier training completed in %0.3fs\" % (time() - t0))\n",
    "\n",
    "# Generate Predictions\n",
    "y_pred = sgd_clf.predict(X_test)"
   ]
  },
  {
   "cell_type": "markdown",
   "metadata": {},
   "source": [
    "#### Confusion Matrix"
   ]
  },
  {
   "cell_type": "code",
   "execution_count": 59,
   "metadata": {},
   "outputs": [],
   "source": [
    "# Main idea - https://bit.ly/2DCTGd5\n",
    "import matplotlib.pyplot as plt\n",
    "%matplotlib inline\n",
    "\n",
    "def get_confusion_matrix(cm, classes,normalize=False,title='Confusion matrix',cmap=plt.cm.Blues):\n",
    "    \n",
    "    if normalize:\n",
    "        cm = cm.astype('float') / cm.sum(axis=1)[:, np.newaxis]\n",
    "        print(\"Normalized confusion matrix\")\n",
    "    else:\n",
    "        print('Confusion matrix, without normalization')\n",
    "\n",
    "\n",
    "    plt.imshow(cm, interpolation='nearest', cmap=cmap)\n",
    "    plt.title(title)\n",
    "    plt.colorbar()\n",
    "    tick_marks = np.arange(len(classes))\n",
    "    plt.xticks(tick_marks, classes, rotation=45)\n",
    "    plt.yticks(tick_marks, classes)\n",
    "\n",
    "    fmt = '.2f' if normalize else 'd'\n",
    "    thresh = cm.max() / 2.\n",
    "    for i, j in itertools.product(range(cm.shape[0]), range(cm.shape[1])):\n",
    "        plt.text(j, i, format(cm[i, j], fmt),\n",
    "                 horizontalalignment=\"center\",\n",
    "                 color=\"white\" if cm[i, j] > thresh else \"black\")\n",
    "\n",
    "    plt.ylabel('True label')\n",
    "    plt.xlabel('Predicted label')\n",
    "    plt.tight_layout()"
   ]
  },
  {
   "cell_type": "code",
   "execution_count": 61,
   "metadata": {},
   "outputs": [
    {
     "name": "stdout",
     "output_type": "stream",
     "text": [
      "Confusion matrix, without normalization\n",
      "Normalized confusion matrix\n"
     ]
    },
    {
     "data": {
      "image/png": "[encoded data removed]",
      "text/plain": [
       "<Figure size 432x288 with 2 Axes>"
      ]
     },
     "metadata": {
      "needs_background": "light"
     },
     "output_type": "display_data"
    },
    {
     "data": {
      "image/png": "[encoded data removed]",
      "text/plain": [
       "<Figure size 432x288 with 2 Axes>"
      ]
     },
     "metadata": {
      "needs_background": "light"
     },
     "output_type": "display_data"
    }
   ],
   "source": [
    "from time import time\n",
    "from sklearn.metrics import confusion_matrix\n",
    "import itertools\n",
    "import matplotlib.pyplot as plt\n",
    "\n",
    "cnf_matrix = confusion_matrix(y_test, y_pred)\n",
    "np.set_printoptions(precision=2)\n",
    "class_names = [0,1,2,3,4,5]\n",
    "\n",
    "# Plot Confusion matrix\n",
    "plt.figure()\n",
    "get_confusion_matrix(cnf_matrix, classes= class_names,\n",
    "                      title='Confusion Matrix')\n",
    "\n",
    "# Plot Normalized Confusion matrix\n",
    "plt.figure()\n",
    "get_confusion_matrix(cnf_matrix, classes=class_names, normalize=True,\n",
    "                      title='Normalized Confusion Matrix')\n",
    "\n",
    "plt.show()"
   ]
  }
 ],
 "metadata": {
  "kernelspec": {
   "display_name": "Python 3",
   "language": "python",
   "name": "python3"
  },
  "language_info": {
   "codemirror_mode": {
    "name": "ipython",
    "version": 3
   },
   "file_extension": ".py",
   "mimetype": "text/x-python",
   "name": "python",
   "nbconvert_exporter": "python",
   "pygments_lexer": "ipython3",
   "version": "3.7.1"
  },
  "latex_envs": {
   "LaTeX_envs_menu_present": true,
   "autoclose": false,
   "autocomplete": true,
   "bibliofile": "biblio.bib",
   "cite_by": "apalike",
   "current_citInitial": 1,
   "eqLabelWithNumbers": true,
   "eqNumInitial": 1,
   "hotkeys": {
    "equation": "Ctrl-E",
    "itemize": "Ctrl-I"
   },
   "labels_anchors": false,
   "latex_user_defs": false,
   "report_style_numbering": false,
   "user_envs_cfg": false
  }
 },
 "nbformat": 4,
 "nbformat_minor": 2
}
